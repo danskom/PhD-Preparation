{
 "cells": [
  {
   "cell_type": "code",
   "execution_count": 6,
   "metadata": {},
   "outputs": [
    {
     "name": "stdout",
     "output_type": "stream",
     "text": [
      "3000\n"
     ]
    }
   ],
   "source": [
    "#Velocity model\n",
    "\n",
    "#velocity = distance/time\n",
    "\n",
    "velocity = 1500 #m/s\n",
    "\n",
    "time = 2 #s\n",
    "\n",
    "distance = velocity * time\n",
    "\n",
    "print(distance)\n",
    "\n",
    "\n"
   ]
  },
  {
   "cell_type": "code",
   "execution_count": 8,
   "metadata": {},
   "outputs": [
    {
     "name": "stdout",
     "output_type": "stream",
     "text": [
      "1503.3296378372909\n",
      "3006.6592756745817\n",
      "2.004439517116388\n"
     ]
    }
   ],
   "source": [
    "#velocity model mk2\n",
    "\n",
    "import math\n",
    "\n",
    "velocity = 1500 #m/s\n",
    "\n",
    "one_way_calculated_distance = math.sqrt((1500**2) + (100**2)) #depth is 1500 and surface distance is 100 \n",
    "\n",
    "print(one_way_calculated_distance)\n",
    "\n",
    "two_way_calculated_distance = one_way_calculated_distance * 2\n",
    "\n",
    "print(two_way_calculated_distance)\n",
    "\n",
    "time = two_way_calculated_distance / velocity\n",
    "\n",
    "print(time)"
   ]
  },
  {
   "cell_type": "code",
   "execution_count": 67,
   "metadata": {},
   "outputs": [
    {
     "name": "stdout",
     "output_type": "stream",
     "text": [
      "velocity 1500\n",
      "receiver_distance {0: 50, 1: 100, 2: 150, 3: 200, 4: 250, 5: 300, 6: 350, 7: 400, 8: 450, 9: 500}\n",
      "distance_shot_to_receiver {0: 150, 1: 200, 2: 250, 3: 300, 4: 350, 5: 400, 6: 450, 7: 500, 8: 550, 9: 600}\n",
      "time_first_arrivals {0: 0.1, 1: 0.1333, 2: 0.1667, 3: 0.2, 4: 0.2333, 5: 0.2667, 6: 0.3, 7: 0.3333, 8: 0.3667, 9: 0.4}\n",
      "half_time_first_arrivals {0: 0.05, 1: 0.0667, 2: 0.0833, 3: 0.1, 4: 0.1167, 5: 0.1333, 6: 0.15, 7: 0.1666, 8: 0.1834, 9: 0.2}\n",
      "common_midpoint {0: 75.0, 1: 100.0, 2: 125.0, 3: 150.0, 4: 175.0, 5: 200.0, 6: 225.0, 7: 250.0, 8: 275.0, 9: 300.0}\n",
      "distance_travelled_by_primaries {0: 3003.7477, 1: 3006.6593, 2: 3010.3986, 3: 3014.9627, 4: 3020.3477, 5: 3026.5492, 6: 3033.5623, 7: 3041.3813, 8: 3050.0, 9: 3059.4117}\n",
      "time_travelled_by_primaries {0: 2.0025, 1: 2.0044, 2: 2.0069, 3: 2.01, 4: 2.0136, 5: 2.0177, 6: 2.0224, 7: 2.0276, 8: 2.0333, 9: 2.0396}\n",
      "one_way_time {0: 1.0012, 1: 1.0022, 2: 1.0034, 3: 1.005, 4: 1.0068, 5: 1.0089, 6: 1.0112, 7: 1.0138, 8: 1.0167, 9: 1.0198}\n"
     ]
    }
   ],
   "source": [
    "#Velocity model mk3\n",
    "\n",
    "import math\n",
    "\n",
    "import numpy as np\n",
    "\n",
    "velocity = 1500 #m/s sound waves in water \n",
    "\n",
    "shot_distance = 100 #distance from shot to first receiver\n",
    "\n",
    "print('velocity ' + str(velocity))\n",
    "\n",
    "receiver_distance = {0:50, 1:100, 2:150, 3:200, 4:250, 5:300, 6:350, 7:400, 8:450, 9:500,}\n",
    "\n",
    "velocity = 1500 #m/s sound waves in water \n",
    "\n",
    "print('receiver_distance ' + str(receiver_distance))\n",
    "\n",
    "distance_shot_to_receiver = {key: value + shot_distance for (key, value) in receiver_distance.items()}\n",
    "\n",
    "print('distance_shot_to_receiver ' + str(distance_shot_to_receiver))\n",
    "\n",
    "time_first_arrivals = {key: round(value / velocity,4) for (key, value) in distance_shot_to_receiver.items()}\n",
    "\n",
    "print('time_first_arrivals ' + str(time_first_arrivals))\n",
    "\n",
    "half_time_first_arrivals = {key: round(value / 2,4) for (key, value) in time_first_arrivals.items()}\n",
    "\n",
    "print('half_time_first_arrivals ' + str(half_time_first_arrivals))\n",
    "\n",
    "common_midpoint = {key: (value)/2 for (key, value) in distance_shot_to_receiver.items()}\n",
    "\n",
    "print('common_midpoint ' + str(common_midpoint))\n",
    "\n",
    "distance_travelled_by_primaries = {key: round(((math.sqrt((value**2)+(velocity**2)))*2),4) for (key, value) in common_midpoint.items()}\n",
    "\n",
    "print('distance_travelled_by_primaries ' + str((distance_travelled_by_primaries)))\n",
    "\n",
    "time_travelled_by_primaries = {key: round(value/velocity,4) for key, value in distance_travelled_by_primaries.items()}\n",
    "\n",
    "print('time_travelled_by_primaries ' + str((time_travelled_by_primaries)))\n",
    "\n",
    "one_way_time = {key: round(value/2,4) for key, value in time_travelled_by_primaries.items()}\n",
    "\n",
    "print('one_way_time ' + str((one_way_time)))\n",
    "\n",
    "\n"
   ]
  },
  {
   "cell_type": "code",
   "execution_count": 68,
   "metadata": {},
   "outputs": [
    {
     "name": "stdout",
     "output_type": "stream",
     "text": [
      "single_depth_in_time 0.9961934751844143\n",
      "single_depth_in_distance 1497.5616206019704\n",
      "depth_values[]\n",
      "depth_values_time[0.9962, 0.9933, 0.9895, 0.9849, 0.9794, 0.973, 0.9657, 0.9574, 0.9483, 0.9381]\n",
      "None\n",
      "Depth_in_meters_@CMP 0 :1494.3\n",
      "Depth_in_meters_@CMP 1 :1489.95\n",
      "Depth_in_meters_@CMP 2 :1484.25\n",
      "Depth_in_meters_@CMP 3 :1477.35\n",
      "Depth_in_meters_@CMP 4 :1469.1\n",
      "Depth_in_meters_@CMP 5 :1459.5\n",
      "Depth_in_meters_@CMP 6 :1448.55\n",
      "Depth_in_meters_@CMP 7 :1436.1\n",
      "Depth_in_meters_@CMP 8 :1422.45\n",
      "Depth_in_meters_@CMP 9 :1407.15\n",
      "None\n"
     ]
    }
   ],
   "source": [
    "#depth single reciever and single shot\n",
    "\n",
    "import math\n",
    "\n",
    "single_depth_in_time = math.sqrt((one_way_time[0]**2)-(time_first_arrivals[0]**2))\n",
    "\n",
    "print('single_depth_in_time ' + str(single_depth_in_time))\n",
    "\n",
    "single_depth_in_distance = depth_in_time * velocity\n",
    "\n",
    "print('single_depth_in_distance ' + str(single_depth_in_distance))\n",
    "\n",
    "#depth multiple recievers and single shot\n",
    "\n",
    "import math\n",
    "\n",
    "depth_values = []\n",
    "\n",
    "print('depth_values' + str(depth_values))\n",
    "\n",
    "def calculate_depth_in_time(one_way_time, time_first_arrivals):\n",
    "    \n",
    "\n",
    "    # Iterate through 5 values or the minimum len\n",
    "    # gth of dictionaries\n",
    "    num_values = min(10, len(one_way_time), len(time_first_arrivals))\n",
    "    for i in range(num_values):\n",
    "        depth = round(math.sqrt(one_way_time[i]**2 - time_first_arrivals[i]**2),4)\n",
    "        depth_values.append(depth)\n",
    "\n",
    "    print('depth_values_time' + str(depth_values)) \n",
    "\n",
    "print(calculate_depth_in_time(one_way_time, time_first_arrivals))\n",
    "\n",
    "def depth_in_distance(depth_values, velocity):\n",
    "    for i in range(len(depth_values)):\n",
    "        depth_values[i] = round(depth_values[i] * velocity,4)\n",
    "        print('Depth_in_meters_@CMP', i, ':' + (str(depth_values[i])))\n",
    "\n",
    "\n",
    "print(depth_in_distance(depth_values, velocity))\n",
    "  \n",
    "\n",
    "\n",
    "\n",
    "\n",
    "\n",
    "\n",
    "\n"
   ]
  }
 ],
 "metadata": {
  "kernelspec": {
   "display_name": "Python 3",
   "language": "python",
   "name": "python3"
  },
  "language_info": {
   "codemirror_mode": {
    "name": "ipython",
    "version": 3
   },
   "file_extension": ".py",
   "mimetype": "text/x-python",
   "name": "python",
   "nbconvert_exporter": "python",
   "pygments_lexer": "ipython3",
   "version": "3.11.4"
  },
  "orig_nbformat": 4
 },
 "nbformat": 4,
 "nbformat_minor": 2
}
